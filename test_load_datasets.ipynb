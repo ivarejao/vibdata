{
 "cells": [
  {
   "cell_type": "code",
   "execution_count": 29,
   "id": "4d495b1a-de21-4aa9-9a44-3b16073ff1f2",
   "metadata": {},
   "outputs": [],
   "source": [
    "from vibdata.datahandler import EAS_raw, PU_raw, UOC_raw, IMS_raw"
   ]
  },
  {
   "cell_type": "code",
   "execution_count": 30,
   "id": "cc1f96a1-8cc0-450d-8487-b3d30fee0487",
   "metadata": {},
   "outputs": [],
   "source": [
    "data_dir = '/home/lhsmello/ufes/NINFA/RPDBCS3/domain_adaptation/datasets'\n",
    "EAS = EAS_raw(data_dir, download=True)\n",
    "PU = PU_raw(data_dir, download=True)\n",
    "UOC = UOC_raw(data_dir, download=True)\n",
    "IMS = IMS_raw(data_dir, download=True)"
   ]
  },
  {
   "cell_type": "code",
   "execution_count": 36,
   "id": "0b42d1dd-c14d-4597-b101-7e57c3847663",
   "metadata": {},
   "outputs": [
    {
     "name": "stderr",
     "output_type": "stream",
     "text": [
      "100%|██████████| 2559/2559 [00:26<00:00, 94.86it/s] \n"
     ]
    }
   ],
   "source": [
    "from tqdm import tqdm\n",
    "\n",
    "D = PU\n",
    "#Loading one by one\n",
    "for i in tqdm(D):\n",
    "    continue"
   ]
  },
  {
   "cell_type": "code",
   "execution_count": null,
   "id": "3c3660c4-c7cd-4573-9b5e-5bf21c23381f",
   "metadata": {},
   "outputs": [],
   "source": [
    "from tqdm import tqdm\n",
    "\n",
    "D = PU\n",
    "#Loading in batches\n",
    "for i in tqdm(range(0, len(D)-16,16)):\n",
    "    D[list(range(i,i+16))]\n",
    "    continue"
   ]
  }
 ],
 "metadata": {
  "kernelspec": {
   "display_name": "env_research",
   "language": "python",
   "name": "env_research"
  },
  "language_info": {
   "codemirror_mode": {
    "name": "ipython",
    "version": 3
   },
   "file_extension": ".py",
   "mimetype": "text/x-python",
   "name": "python",
   "nbconvert_exporter": "python",
   "pygments_lexer": "ipython3",
   "version": "3.8.10"
  }
 },
 "nbformat": 4,
 "nbformat_minor": 5
}
