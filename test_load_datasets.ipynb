{
 "cells": [
  {
   "cell_type": "code",
   "execution_count": 49,
   "id": "4d495b1a-de21-4aa9-9a44-3b16073ff1f2",
   "metadata": {},
   "outputs": [],
   "source": [
    "from vibdata.datahandler import EAS_raw, PU_raw, UOC_raw, IMS_raw, RPDBCS_raw"
   ]
  },
  {
   "cell_type": "code",
   "execution_count": 53,
   "id": "cc1f96a1-8cc0-450d-8487-b3d30fee0487",
   "metadata": {},
   "outputs": [],
   "source": [
    "data_dir = '/home/lhsmello/ufes/NINFA/RPDBCS3/domain_adaptation/datasets'\n",
    "# EAS = EAS_raw(data_dir, download=True)\n",
    "PU = PU_raw(data_dir, download=True)\n",
    "UOC = UOC_raw(data_dir, download=True)\n",
    "IMS = IMS_raw(data_dir, download=True)\n",
    "rpdbcs = RPDBCS_raw(data_dir, frequency_domain=True)"
   ]
  },
  {
   "cell_type": "code",
   "execution_count": null,
   "id": "0b42d1dd-c14d-4597-b101-7e57c3847663",
   "metadata": {},
   "outputs": [],
   "source": [
    "from tqdm import tqdm\n",
    "\n",
    "D = rpdbcs\n",
    "#Loading one by one\n",
    "for i in tqdm(D):\n",
    "    continue"
   ]
  },
  {
   "cell_type": "code",
   "execution_count": 64,
   "id": "3c3660c4-c7cd-4573-9b5e-5bf21c23381f",
   "metadata": {},
   "outputs": [
    {
     "name": "stderr",
     "output_type": "stream",
     "text": [
      "100%|██████████| 46/46 [00:05<00:00,  8.20it/s]\n"
     ]
    }
   ],
   "source": [
    "from tqdm import tqdm\n",
    "\n",
    "D = rpdbcs\n",
    "batch_size=120\n",
    "#Loading in batches\n",
    "for i in tqdm(range(0, len(D)-batch_size,batch_size)):\n",
    "    D[list(range(i,i+batch_size))]\n",
    "    continue"
   ]
  },
  {
   "cell_type": "code",
   "execution_count": 56,
   "id": "3db66df4-e93b-4cfd-838c-9b9fd7e5fd3c",
   "metadata": {},
   "outputs": [
    {
     "data": {
      "text/plain": [
       "6100"
      ]
     },
     "execution_count": 56,
     "metadata": {},
     "output_type": "execute_result"
    }
   ],
   "source": [
    "sig = rpdbcs[0]['signal']\n",
    "len(sig)"
   ]
  },
  {
   "cell_type": "code",
   "execution_count": null,
   "id": "935f8076-b16f-47cd-871d-4f6e9cb3107a",
   "metadata": {},
   "outputs": [],
   "source": []
  }
 ],
 "metadata": {
  "kernelspec": {
   "display_name": "env_research",
   "language": "python",
   "name": "env_research"
  },
  "language_info": {
   "codemirror_mode": {
    "name": "ipython",
    "version": 3
   },
   "file_extension": ".py",
   "mimetype": "text/x-python",
   "name": "python",
   "nbconvert_exporter": "python",
   "pygments_lexer": "ipython3",
   "version": "3.8.10"
  }
 },
 "nbformat": 4,
 "nbformat_minor": 5
}
